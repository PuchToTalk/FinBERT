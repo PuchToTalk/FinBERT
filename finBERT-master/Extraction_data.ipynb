{
 "cells": [
  {
   "cell_type": "markdown",
   "id": "b2628c86-f845-4975-956c-0d12908f7e72",
   "metadata": {},
   "source": [
    "Permet de créer le dossier \"Data > sentiment_data\" si non existant, et de rajouter nos 3 datasets dans le dossier."
   ]
  },
  {
   "cell_type": "code",
   "execution_count": 6,
   "id": "b21b3c3e-0c80-42a3-87b1-51cdb0c01b82",
   "metadata": {},
   "outputs": [],
   "source": [
    "import pandas as pd\n",
    "from sklearn.model_selection import train_test_split\n",
    "import os\n",
    "\n",
    "# Define the data path directly\n",
    "data_path = '/Users/paulc/Downloads/FinancialPhraseBank-v1.0/Sentences_50Agree.txt'\n",
    "\n",
    "if not os.path.exists('sentiment_data'):\n",
    "    os.makedirs('sentiment_data')\n",
    "\n",
    "data = pd.read_csv(data_path, sep='.@', names=['text', 'label'], encoding='latin-1', engine='python')\n",
    "\n",
    "\n",
    "train, test = train_test_split(data, test_size=0.2, random_state=0)\n",
    "train, valid = train_test_split(train, test_size=0.1, random_state=0)\n",
    "\n",
    "train.to_csv('sentiment_data/train.csv', sep='\\t')\n",
    "test.to_csv('sentiment_data/test.csv', sep='\\t')\n",
    "valid.to_csv('sentiment_data/validation.csv', sep='\\t')\n"
   ]
  }
 ],
 "metadata": {
  "kernelspec": {
   "display_name": "Python 3 (ipykernel)",
   "language": "python",
   "name": "python3"
  },
  "language_info": {
   "codemirror_mode": {
    "name": "ipython",
    "version": 3
   },
   "file_extension": ".py",
   "mimetype": "text/x-python",
   "name": "python",
   "nbconvert_exporter": "python",
   "pygments_lexer": "ipython3",
   "version": "3.10.9"
  }
 },
 "nbformat": 4,
 "nbformat_minor": 5
}
