{
  "nbformat": 4,
  "nbformat_minor": 0,
  "metadata": {
    "colab": {
      "provenance": [],
      "authorship_tag": "ABX9TyPavgxY4ZAzfNmkmsgC/gfr",
      "include_colab_link": true
    },
    "kernelspec": {
      "name": "python3",
      "display_name": "Python 3"
    },
    "language_info": {
      "name": "python"
    }
  },
  "cells": [
    {
      "cell_type": "markdown",
      "metadata": {
        "id": "view-in-github",
        "colab_type": "text"
      },
      "source": [
        "<a href=\"https://colab.research.google.com/github/PuchToTalk/FinBERT/blob/fine-tuning/Fine_Tuning_practice.ipynb\" target=\"_parent\"><img src=\"https://colab.research.google.com/assets/colab-badge.svg\" alt=\"Open In Colab\"/></a>"
      ]
    },
    {
      "cell_type": "code",
      "source": [
        "!pip install transformers\n"
      ],
      "metadata": {
        "id": "43PW_bI7MH6W"
      },
      "execution_count": null,
      "outputs": []
    },
    {
      "cell_type": "code",
      "execution_count": null,
      "metadata": {
        "id": "GwWlqOA3LR6Y"
      },
      "outputs": [],
      "source": [
        "import torch\n",
        "import torch.nn as nn\n",
        "from torch.utils.data import DataLoader, TensorDataset\n",
        "from transformers import BertTokenizer, BertForSequenceClassification, AdamW\n",
        "\n",
        "# Define your own dataset for text classification\n",
        "# In this example, let's assume you have training_data and validation_data\n",
        "# training_data should be a list of (text, label) pairs\n",
        "# validation_data should be a list of (text, label) pairs\n",
        "training_data = [\n",
        "    (\"This is a positive sentence.\", 1),\n",
        "    (\"This is a negative sentence.\", 0),\n",
        "    # Add more data...\n",
        "]\n",
        "\n",
        "validation_data = [\n",
        "    (\"Another positive example.\", 1),\n",
        "    (\"Another negative example.\", 0),\n",
        "    # Add more data...\n",
        "]\n",
        "\n",
        "# Define the BERT model and tokenizer\n",
        "model_name = \"bert-base-uncased\"  # You can choose other pre-trained models\n",
        "tokenizer = BertTokenizer.from_pretrained(model_name)\n",
        "model = BertForSequenceClassification.from_pretrained(model_name, num_labels=2)  # Change num_labels to match your classification task\n",
        "\n",
        "# Tokenize and preprocess the data\n",
        "def preprocess_data(data):\n",
        "    inputs = [tokenizer.encode(text, add_special_tokens=True, max_length=128, pad_to_max_length=True) for text, _ in data]\n",
        "    labels = [label for _, label in data]\n",
        "    inputs = torch.tensor(inputs)\n",
        "    labels = torch.tensor(labels)\n",
        "    return inputs, labels\n",
        "\n",
        "train_inputs, train_labels = preprocess_data(training_data)\n",
        "val_inputs, val_labels = preprocess_data(validation_data)\n",
        "\n",
        "# Create data loaders\n",
        "batch_size = 32\n",
        "train_dataset = TensorDataset(train_inputs, train_labels)\n",
        "train_dataloader = DataLoader(train_dataset, batch_size=batch_size, shuffle=True)\n",
        "val_dataset = TensorDataset(val_inputs, val_labels)\n",
        "val_dataloader = DataLoader(val_dataset, batch_size=batch_size)\n",
        "\n",
        "# Define training parameters\n",
        "learning_rate = 2e-5\n",
        "num_epochs = 3  # You can adjust the number of epochs\n",
        "\n",
        "# Define loss and optimizer\n",
        "criterion = nn.CrossEntropyLoss()\n",
        "optimizer = AdamW(model.parameters(), lr=learning_rate)\n",
        "\n",
        "# Fine-tune the BERT model\n",
        "model.to(\"cuda\" if torch.cuda.is_available() else \"cpu\")  # Use GPU if available\n",
        "model.train()\n",
        "for epoch in range(num_epochs):\n",
        "    total_loss = 0\n",
        "    for inputs, labels in train_dataloader:\n",
        "        inputs = inputs.to(\"cuda\" if torch.cuda.is_available() else \"cpu\")\n",
        "        labels = labels.to(\"cuda\" if torch.cuda.is_available() else \"cpu\")\n",
        "        optimizer.zero_grad()\n",
        "        outputs = model(inputs, labels=labels)\n",
        "        loss = outputs.loss\n",
        "        loss.backward()\n",
        "        optimizer.step()\n",
        "        total_loss += loss.item()\n",
        "    average_loss = total_loss / len(train_dataloader)\n",
        "    print(f\"Epoch {epoch + 1}/{num_epochs}, Loss: {average_loss:.4f}\")\n",
        "\n",
        "# Evaluate the model on the validation set\n",
        "model.eval()\n",
        "correct = 0\n",
        "total = 0\n",
        "with torch.no_grad():\n",
        "    for inputs, labels in val_dataloader:\n",
        "        inputs = inputs.to(\"cuda\" if torch.cuda.is_available() else \"cpu\")\n",
        "        labels = labels.to(\"cuda\" if torch.cuda.is_available() else \"cpu\")\n",
        "        outputs = model(inputs)\n",
        "        _, predicted = torch.max(outputs.logits, 1)\n",
        "        total += labels.size(0)\n",
        "        correct += (predicted == labels).sum().item()\n",
        "\n",
        "accuracy = correct / total\n",
        "print(f\"Validation Accuracy: {accuracy:.4f}\")\n",
        "\n",
        "# Save the fine-tuned model\n",
        "model.save_pretrained(\"fine_tuned_bert\")\n"
      ]
    }
  ]
}